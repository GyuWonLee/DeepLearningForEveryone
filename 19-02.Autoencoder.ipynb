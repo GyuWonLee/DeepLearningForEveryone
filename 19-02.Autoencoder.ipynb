{
 "cells": [
  {
   "cell_type": "code",
   "execution_count": 10,
   "id": "0152f01d",
   "metadata": {},
   "outputs": [],
   "source": [
    "from tensorflow.keras.datasets import mnist\n",
    "from tensorflow.keras import models, layers, Sequential\n",
    "import numpy as np\n",
    "import matplotlib.pyplot as plt\n",
    "import os"
   ]
  },
  {
   "cell_type": "code",
   "execution_count": 11,
   "id": "aabaea7b",
   "metadata": {},
   "outputs": [],
   "source": [
    "(X_train, _), (X_test, _) = mnist.load_data()\n",
    "X_train = X_train.reshape(X_train.shape[0], 28, 28, 1).astype(float) / 255\n",
    "X_test = X_test.reshape(X_test.shape[0], 28, 28, 1).astype(float) / 255"
   ]
  },
  {
   "cell_type": "code",
   "execution_count": 12,
   "id": "fa369ff0",
   "metadata": {},
   "outputs": [],
   "source": [
    "autoencoder = Sequential()"
   ]
  },
  {
   "cell_type": "code",
   "execution_count": 13,
   "id": "9664e0e1",
   "metadata": {},
   "outputs": [],
   "source": [
    "autoencoder.add(layers.Conv2D(16, kernel_size=3, padding='same',\n",
    "                              input_shape=(28, 28,1), activation='relu'))\n",
    "autoencoder.add(layers.MaxPooling2D(pool_size=2))\n",
    "autoencoder.add(layers.Conv2D(8, kernel_size=3, activation='relu', padding='same'))                       \n",
    "autoencoder.add(layers.MaxPooling2D(pool_size=2, padding='same'))\n",
    "autoencoder.add(layers.Conv2D(8, kernel_size=3, strides=2, padding='same', activation='relu'))"
   ]
  },
  {
   "cell_type": "code",
   "execution_count": 14,
   "id": "abdc93ff",
   "metadata": {},
   "outputs": [
    {
     "name": "stdout",
     "output_type": "stream",
     "text": [
      "Model: \"sequential_1\"\n",
      "_________________________________________________________________\n",
      "Layer (type)                 Output Shape              Param #   \n",
      "=================================================================\n",
      "conv2d_17 (Conv2D)           (None, 28, 28, 16)        160       \n",
      "_________________________________________________________________\n",
      "max_pooling2d_6 (MaxPooling2 (None, 14, 14, 16)        0         \n",
      "_________________________________________________________________\n",
      "conv2d_18 (Conv2D)           (None, 14, 14, 8)         1160      \n",
      "_________________________________________________________________\n",
      "max_pooling2d_7 (MaxPooling2 (None, 7, 7, 8)           0         \n",
      "_________________________________________________________________\n",
      "conv2d_19 (Conv2D)           (None, 4, 4, 8)           584       \n",
      "_________________________________________________________________\n",
      "conv2d_20 (Conv2D)           (None, 4, 4, 8)           584       \n",
      "_________________________________________________________________\n",
      "up_sampling2d_6 (UpSampling2 (None, 8, 8, 8)           0         \n",
      "_________________________________________________________________\n",
      "conv2d_21 (Conv2D)           (None, 8, 8, 8)           584       \n",
      "_________________________________________________________________\n",
      "up_sampling2d_7 (UpSampling2 (None, 16, 16, 8)         0         \n",
      "_________________________________________________________________\n",
      "conv2d_22 (Conv2D)           (None, 14, 14, 16)        1168      \n",
      "_________________________________________________________________\n",
      "up_sampling2d_8 (UpSampling2 (None, 28, 28, 16)        0         \n",
      "_________________________________________________________________\n",
      "conv2d_23 (Conv2D)           (None, 28, 28, 1)         145       \n",
      "=================================================================\n",
      "Total params: 4,385\n",
      "Trainable params: 4,385\n",
      "Non-trainable params: 0\n",
      "_________________________________________________________________\n"
     ]
    }
   ],
   "source": [
    "autoencoder.add(layers.Conv2D(8, kernel_size=3, padding='same',\n",
    "                              activation='relu'))\n",
    "autoencoder.add(layers.UpSampling2D())\n",
    "autoencoder.add(layers.Conv2D(8, kernel_size=3, padding='same',\n",
    "                              activation='relu'))\n",
    "autoencoder.add(layers.UpSampling2D())\n",
    "autoencoder.add(layers.Conv2D(16, kernel_size=3, activation='relu'))\n",
    "autoencoder.add(layers.UpSampling2D())\n",
    "autoencoder.add(layers.Conv2D(1, kernel_size=3, padding='same',\n",
    "                              activation='sigmoid'))\n",
    "\n",
    "autoencoder.summary()"
   ]
  },
  {
   "cell_type": "code",
   "execution_count": 15,
   "id": "f7fce742",
   "metadata": {},
   "outputs": [
    {
     "name": "stdout",
     "output_type": "stream",
     "text": [
      "Epoch 1/50\n",
      "469/469 [==============================] - 50s 107ms/step - loss: 0.2115 - val_loss: 0.1365\n",
      "Epoch 2/50\n",
      "469/469 [==============================] - 52s 111ms/step - loss: 0.1259 - val_loss: 0.1165\n",
      "Epoch 3/50\n",
      "469/469 [==============================] - 49s 106ms/step - loss: 0.1136 - val_loss: 0.1087\n",
      "Epoch 4/50\n",
      "469/469 [==============================] - 49s 105ms/step - loss: 0.1075 - val_loss: 0.1041\n",
      "Epoch 5/50\n",
      "469/469 [==============================] - 49s 105ms/step - loss: 0.1038 - val_loss: 0.1009\n",
      "Epoch 6/50\n",
      "469/469 [==============================] - 53s 113ms/step - loss: 0.1012 - val_loss: 0.0988\n",
      "Epoch 7/50\n",
      "469/469 [==============================] - 58s 124ms/step - loss: 0.0993 - val_loss: 0.0970\n",
      "Epoch 8/50\n",
      "469/469 [==============================] - 68s 145ms/step - loss: 0.0978 - val_loss: 0.0957\n",
      "Epoch 9/50\n",
      "469/469 [==============================] - 61s 131ms/step - loss: 0.0965 - val_loss: 0.0946\n",
      "Epoch 10/50\n",
      "469/469 [==============================] - 66s 142ms/step - loss: 0.0955 - val_loss: 0.0936\n",
      "Epoch 11/50\n",
      "469/469 [==============================] - 56s 119ms/step - loss: 0.0945 - val_loss: 0.0928\n",
      "Epoch 12/50\n",
      "469/469 [==============================] - 61s 129ms/step - loss: 0.0937 - val_loss: 0.0921\n",
      "Epoch 13/50\n",
      "469/469 [==============================] - 56s 119ms/step - loss: 0.0930 - val_loss: 0.0913\n",
      "Epoch 14/50\n",
      "469/469 [==============================] - 59s 126ms/step - loss: 0.0923 - val_loss: 0.0907\n",
      "Epoch 15/50\n",
      "469/469 [==============================] - 60s 128ms/step - loss: 0.0917 - val_loss: 0.0901\n",
      "Epoch 16/50\n",
      "469/469 [==============================] - 60s 129ms/step - loss: 0.0911 - val_loss: 0.0896\n",
      "Epoch 17/50\n",
      "469/469 [==============================] - 56s 120ms/step - loss: 0.0906 - val_loss: 0.0890\n",
      "Epoch 18/50\n",
      "469/469 [==============================] - 64s 137ms/step - loss: 0.0901 - val_loss: 0.0885\n",
      "Epoch 19/50\n",
      "469/469 [==============================] - 61s 130ms/step - loss: 0.0897 - val_loss: 0.0882\n",
      "Epoch 20/50\n",
      "469/469 [==============================] - 55s 118ms/step - loss: 0.0893 - val_loss: 0.0877\n",
      "Epoch 21/50\n",
      "469/469 [==============================] - 72s 154ms/step - loss: 0.0889 - val_loss: 0.0877\n",
      "Epoch 22/50\n",
      "469/469 [==============================] - 62s 133ms/step - loss: 0.0886 - val_loss: 0.0872\n",
      "Epoch 23/50\n",
      "469/469 [==============================] - 57s 122ms/step - loss: 0.0883 - val_loss: 0.0870\n",
      "Epoch 24/50\n",
      "469/469 [==============================] - 60s 128ms/step - loss: 0.0880 - val_loss: 0.0870\n",
      "Epoch 25/50\n",
      "469/469 [==============================] - 66s 141ms/step - loss: 0.0878 - val_loss: 0.0864\n",
      "Epoch 26/50\n",
      "469/469 [==============================] - 63s 134ms/step - loss: 0.0876 - val_loss: 0.0862\n",
      "Epoch 27/50\n",
      "469/469 [==============================] - 61s 130ms/step - loss: 0.0874 - val_loss: 0.0861\n",
      "Epoch 28/50\n",
      "469/469 [==============================] - 58s 123ms/step - loss: 0.0872 - val_loss: 0.0859\n",
      "Epoch 29/50\n",
      "469/469 [==============================] - 51s 108ms/step - loss: 0.0870 - val_loss: 0.0859\n",
      "Epoch 30/50\n",
      "469/469 [==============================] - 50s 107ms/step - loss: 0.0869 - val_loss: 0.0858\n",
      "Epoch 31/50\n",
      "469/469 [==============================] - 50s 107ms/step - loss: 0.0868 - val_loss: 0.0855\n",
      "Epoch 32/50\n",
      "469/469 [==============================] - 55s 116ms/step - loss: 0.0866 - val_loss: 0.0857\n",
      "Epoch 33/50\n",
      "469/469 [==============================] - 58s 123ms/step - loss: 0.0865 - val_loss: 0.0854\n",
      "Epoch 34/50\n",
      "469/469 [==============================] - 54s 115ms/step - loss: 0.0864 - val_loss: 0.0855\n",
      "Epoch 35/50\n",
      "469/469 [==============================] - 60s 128ms/step - loss: 0.0863 - val_loss: 0.0851\n",
      "Epoch 36/50\n",
      "469/469 [==============================] - 52s 111ms/step - loss: 0.0862 - val_loss: 0.0851\n",
      "Epoch 37/50\n",
      "469/469 [==============================] - 66s 140ms/step - loss: 0.0861 - val_loss: 0.0852\n",
      "Epoch 38/50\n",
      "469/469 [==============================] - 52s 112ms/step - loss: 0.0860 - val_loss: 0.0848\n",
      "Epoch 39/50\n",
      "469/469 [==============================] - 51s 109ms/step - loss: 0.0859 - val_loss: 0.0848\n",
      "Epoch 40/50\n",
      "469/469 [==============================] - 56s 119ms/step - loss: 0.0858 - val_loss: 0.0846\n",
      "Epoch 41/50\n",
      "469/469 [==============================] - 53s 112ms/step - loss: 0.0857 - val_loss: 0.0846\n",
      "Epoch 42/50\n",
      "469/469 [==============================] - 50s 107ms/step - loss: 0.0857 - val_loss: 0.0845\n",
      "Epoch 43/50\n",
      "469/469 [==============================] - 53s 113ms/step - loss: 0.0856 - val_loss: 0.0847\n",
      "Epoch 44/50\n",
      "469/469 [==============================] - 56s 119ms/step - loss: 0.0855 - val_loss: 0.0845\n",
      "Epoch 45/50\n",
      "469/469 [==============================] - 59s 125ms/step - loss: 0.0854 - val_loss: 0.0850\n",
      "Epoch 46/50\n",
      "469/469 [==============================] - 48s 101ms/step - loss: 0.0854 - val_loss: 0.0843\n",
      "Epoch 47/50\n",
      "469/469 [==============================] - 48s 103ms/step - loss: 0.0852 - val_loss: 0.0843\n",
      "Epoch 48/50\n",
      "469/469 [==============================] - 47s 99ms/step - loss: 0.0852 - val_loss: 0.0848\n",
      "Epoch 49/50\n",
      "469/469 [==============================] - 50s 106ms/step - loss: 0.0851 - val_loss: 0.0842\n",
      "Epoch 50/50\n",
      "469/469 [==============================] - 47s 100ms/step - loss: 0.0850 - val_loss: 0.08401s - loss:  - ETA: 0s - loss:\n"
     ]
    },
    {
     "data": {
      "text/plain": [
       "<tensorflow.python.keras.callbacks.History at 0x2d00ca7f970>"
      ]
     },
     "execution_count": 15,
     "metadata": {},
     "output_type": "execute_result"
    }
   ],
   "source": [
    "autoencoder.compile(loss='binary_crossentropy', optimizer='adam')\n",
    "autoencoder.fit(X_train, X_train, epochs=50, batch_size=128,\n",
    "                validation_data=(X_test, X_test))"
   ]
  },
  {
   "cell_type": "code",
   "execution_count": 31,
   "id": "db3c72db",
   "metadata": {},
   "outputs": [
    {
     "data": {
      "image/png": "[encoded data removed]",
      "text/plain": [
       "<Figure size 700x200 with 20 Axes>"
      ]
     },
     "metadata": {},
     "output_type": "display_data"
    }
   ],
   "source": [
    "random_test = np.random.randint(X_test.shape[0], size=10)\n",
    "ae_imgs = autoencoder.predict(X_test)\n",
    "\n",
    "plt.figure(figsize=(7, 2))\n",
    "for i, image_idx in enumerate(random_test):\n",
    "   ax = plt.subplot(2, 10, i + 1) \n",
    "   plt.imshow(X_test[image_idx].reshape(28, 28))\n",
    "   ax.axis('off')\n",
    "   ax = plt.subplot(2, 10, 10 + i +1)\n",
    "   plt.imshow(ae_imgs[image_idx].reshape(28, 28))\n",
    "   ax.axis('off')\n",
    "plt.show()"
   ]
  },
  {
   "cell_type": "code",
   "execution_count": null,
   "id": "dfba57f6",
   "metadata": {},
   "outputs": [],
   "source": []
  }
 ],
 "metadata": {
  "kernelspec": {
   "display_name": "Python 3 (ipykernel)",
   "language": "python",
   "name": "python3"
  },
  "language_info": {
   "codemirror_mode": {
    "name": "ipython",
    "version": 3
   },
   "file_extension": ".py",
   "mimetype": "text/x-python",
   "name": "python",
   "nbconvert_exporter": "python",
   "pygments_lexer": "ipython3",
   "version": "3.8.13"
  }
 },
 "nbformat": 4,
 "nbformat_minor": 5
}
