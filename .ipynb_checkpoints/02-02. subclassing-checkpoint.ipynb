{
 "cells": [
  {
   "cell_type": "code",
   "execution_count": 42,
   "id": "bacac1da",
   "metadata": {},
   "outputs": [],
   "source": [
    "import pandas as pd\n",
    "import matplotlib.pyplot as plt\n",
    "import seaborn as sns\n",
    "import tensorflow as tf"
   ]
  },
  {
   "cell_type": "code",
   "execution_count": 43,
   "id": "ffe26d21",
   "metadata": {},
   "outputs": [],
   "source": [
    "from tensorflow.keras.models import Sequential\n",
    "from tensorflow.keras import layers"
   ]
  },
  {
   "cell_type": "code",
   "execution_count": 44,
   "id": "596e0438",
   "metadata": {},
   "outputs": [],
   "source": [
    "df = pd.read_csv('data/pima-indians-diabetes3.csv', delimiter=',')\n",
    "X = df.iloc[:, :8]\n",
    "y = df.iloc[:, 8]"
   ]
  },
  {
   "cell_type": "code",
   "execution_count": 49,
   "id": "6275a96c",
   "metadata": {},
   "outputs": [],
   "source": [
    "model_name = 'indians_diabetes'\n",
    "batch_size = 12\n",
    "params = {'model_name' : model_name,\n",
    "         'input_dimension' : 12,\n",
    "         'hidden_dimension' : 8,\n",
    "         'output_dimension' : 1}"
   ]
  },
  {
   "cell_type": "code",
   "execution_count": 50,
   "id": "342c680d",
   "metadata": {},
   "outputs": [],
   "source": [
    "class IndiansDiabetes(tf.keras.Model):\n",
    "    def __init__(self, **kargs):\n",
    "        super(IndiansDiabetes, self).__init__(name=kargs['model_name'])\n",
    "        self.fc1 = layers.Dense(kargs['hidden_dimension'], \n",
    "                               input_dim=kargs['input_dimension'],\n",
    "                               activation='relu')\n",
    "        self.fc2 = layers.Dense(kargs['hidden_dimension'], \n",
    "                               input_dim=kargs['input_dimension'],\n",
    "                               activation='relu')\n",
    "        self.fc3 = layers.Dense(kargs['output_dimension'],\n",
    "                               activation='sigmoid')\n",
    "        \n",
    "        \n",
    "    def call(self, x):\n",
    "        x = self.fc1(x)\n",
    "        x = self.fc2(x)\n",
    "        x = self.fc3(x)\n",
    "        return x"
   ]
  },
  {
   "cell_type": "code",
   "execution_count": 51,
   "id": "07272389",
   "metadata": {},
   "outputs": [],
   "source": [
    "model = IndiansDiabetes(**params)"
   ]
  },
  {
   "cell_type": "code",
   "execution_count": 52,
   "id": "a3deb55b",
   "metadata": {},
   "outputs": [],
   "source": [
    "model.build((batch_size, params['input_dimension']))"
   ]
  },
  {
   "cell_type": "code",
   "execution_count": 53,
   "id": "bf3335c0",
   "metadata": {},
   "outputs": [
    {
     "name": "stdout",
     "output_type": "stream",
     "text": [
      "Model: \"indians_diabetes\"\n",
      "_________________________________________________________________\n",
      "Layer (type)                 Output Shape              Param #   \n",
      "=================================================================\n",
      "dense_11 (Dense)             multiple                  104       \n",
      "_________________________________________________________________\n",
      "dense_12 (Dense)             multiple                  9         \n",
      "=================================================================\n",
      "Total params: 113\n",
      "Trainable params: 113\n",
      "Non-trainable params: 0\n",
      "_________________________________________________________________\n"
     ]
    }
   ],
   "source": [
    "model.summary()"
   ]
  },
  {
   "cell_type": "code",
   "execution_count": null,
   "id": "ec6b43d5",
   "metadata": {},
   "outputs": [],
   "source": []
  },
  {
   "cell_type": "code",
   "execution_count": null,
   "id": "b3f2e374",
   "metadata": {},
   "outputs": [],
   "source": []
  }
 ],
 "metadata": {
  "kernelspec": {
   "display_name": "Python 3 (ipykernel)",
   "language": "python",
   "name": "python3"
  },
  "language_info": {
   "codemirror_mode": {
    "name": "ipython",
    "version": 3
   },
   "file_extension": ".py",
   "mimetype": "text/x-python",
   "name": "python",
   "nbconvert_exporter": "python",
   "pygments_lexer": "ipython3",
   "version": "3.8.13"
  }
 },
 "nbformat": 4,
 "nbformat_minor": 5
}
