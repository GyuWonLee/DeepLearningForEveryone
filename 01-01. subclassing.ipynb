{
 "cells": [
  {
   "cell_type": "code",
   "execution_count": 1,
   "id": "68e2bb5a",
   "metadata": {},
   "outputs": [],
   "source": [
    "from tensorflow.keras.models import Sequential\n",
    "from tensorflow.keras import layers\n",
    "import numpy as np\n",
    "import tensorflow as tf"
   ]
  },
  {
   "cell_type": "code",
   "execution_count": 2,
   "id": "a3793cfd",
   "metadata": {},
   "outputs": [],
   "source": [
    "data_set = np.loadtxt('data/ThoraricSurgery3.csv', delimiter=',')\n",
    "X = data_set[:, :16]\n",
    "y = data_set[:, 16]"
   ]
  },
  {
   "cell_type": "code",
   "execution_count": 3,
   "id": "c9c76bb6",
   "metadata": {},
   "outputs": [],
   "source": [
    "model_name = 'thoratic_surgery'\n",
    "batch_size = 16\n",
    "params = {'model_name' : model_name,\n",
    "         'input_dimension' : 16,\n",
    "         'hidden_dimension' : 30,\n",
    "         'output_dimension' : 1} "
   ]
  },
  {
   "cell_type": "code",
   "execution_count": 4,
   "id": "44e4e568",
   "metadata": {},
   "outputs": [],
   "source": [
    "class ThoraricSurgery(tf.keras.Model):\n",
    "    def __init__(self, **kargs):\n",
    "        super(ThoraricSurgery, self).__init__(name=kargs['model_name'])\n",
    "        self.fc1 = layers.Dense(kargs['hidden_dimension'], \n",
    "                               input_dim=kargs['input_dimension'],\n",
    "                               activation='relu')\n",
    "        self.fc2 = layers.Dense(kargs['output_dimension'],\n",
    "                               activation='sigmoid')\n",
    "        \n",
    "    def call(self, x):\n",
    "        x = self.fc1(x)\n",
    "        x = self.fc2(x)\n",
    "        return x"
   ]
  },
  {
   "cell_type": "code",
   "execution_count": 5,
   "id": "61d0ad17",
   "metadata": {},
   "outputs": [],
   "source": [
    "model = ThoraricSurgery(**params)"
   ]
  },
  {
   "cell_type": "code",
   "execution_count": 6,
   "id": "b2d0eeee",
   "metadata": {},
   "outputs": [],
   "source": [
    "model.build((batch_size, params['input_dimension']))"
   ]
  },
  {
   "cell_type": "code",
   "execution_count": 7,
   "id": "b63b39b4",
   "metadata": {},
   "outputs": [
    {
     "name": "stdout",
     "output_type": "stream",
     "text": [
      "Model: \"thoratic_surgery\"\n",
      "_________________________________________________________________\n",
      "Layer (type)                 Output Shape              Param #   \n",
      "=================================================================\n",
      "dense (Dense)                multiple                  510       \n",
      "_________________________________________________________________\n",
      "dense_1 (Dense)              multiple                  31        \n",
      "=================================================================\n",
      "Total params: 541\n",
      "Trainable params: 541\n",
      "Non-trainable params: 0\n",
      "_________________________________________________________________\n"
     ]
    }
   ],
   "source": [
    "model.summary()"
   ]
  },
  {
   "cell_type": "code",
   "execution_count": 8,
   "id": "5eab5767",
   "metadata": {},
   "outputs": [],
   "source": [
    "model.compile(loss=\"binary_crossentropy\", optimizer='adam', metrics=['accuracy'])"
   ]
  },
  {
   "cell_type": "code",
   "execution_count": 9,
   "id": "581a9822",
   "metadata": {},
   "outputs": [
    {
     "name": "stdout",
     "output_type": "stream",
     "text": [
      "Epoch 1/5\n",
      "30/30 [==============================] - 0s 865us/step - loss: 0.7464 - accuracy: 0.8255\n",
      "Epoch 2/5\n",
      "30/30 [==============================] - 0s 698us/step - loss: 0.5582 - accuracy: 0.8255\n",
      "Epoch 3/5\n",
      "30/30 [==============================] - 0s 698us/step - loss: 0.4441 - accuracy: 0.8468\n",
      "Epoch 4/5\n",
      "30/30 [==============================] - 0s 731us/step - loss: 0.4336 - accuracy: 0.8511\n",
      "Epoch 5/5\n",
      "30/30 [==============================] - 0s 831us/step - loss: 0.4241 - accuracy: 0.8511\n"
     ]
    }
   ],
   "source": [
    "history = model.fit(X, y, epochs=5, batch_size = 16)"
   ]
  },
  {
   "cell_type": "code",
   "execution_count": null,
   "id": "7824af09",
   "metadata": {},
   "outputs": [],
   "source": []
  }
 ],
 "metadata": {
  "kernelspec": {
   "display_name": "Python 3 (ipykernel)",
   "language": "python",
   "name": "python3"
  },
  "language_info": {
   "codemirror_mode": {
    "name": "ipython",
    "version": 3
   },
   "file_extension": ".py",
   "mimetype": "text/x-python",
   "name": "python",
   "nbconvert_exporter": "python",
   "pygments_lexer": "ipython3",
   "version": "3.8.13"
  }
 },
 "nbformat": 4,
 "nbformat_minor": 5
}
