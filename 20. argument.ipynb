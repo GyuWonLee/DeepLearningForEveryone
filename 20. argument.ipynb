{
 "cells": [
  {
   "cell_type": "code",
   "execution_count": 20,
   "id": "21ec19cc",
   "metadata": {},
   "outputs": [],
   "source": [
    "from tensorflow.keras.models import Sequential\n",
    "from tensorflow.keras import models, layers\n",
    "from tensorflow.keras.layers import Dense, Activation, Dropout, Flatten, Conv2D, MaxPooling2D\n",
    "from tensorflow.keras.preprocessing.image import ImageDataGenerator\n",
    "from tensorflow.keras.callbacks import EarlyStopping\n",
    "from tensorflow.keras import optimizers\n",
    "\n",
    "import numpy as np\n",
    "import matplotlib.pyplot as plt\n",
    "import os"
   ]
  },
  {
   "cell_type": "code",
   "execution_count": 33,
   "id": "da571802",
   "metadata": {},
   "outputs": [
    {
     "name": "stdout",
     "output_type": "stream",
     "text": [
      "Found 160 images belonging to 2 classes.\n",
      "Found 120 images belonging to 2 classes.\n"
     ]
    }
   ],
   "source": [
    "#학습셋의 변형을 설정하는 부분입니다. \n",
    "train_datagen = ImageDataGenerator(rescale=1./255,          \n",
    "                                   # 주어진 이미지의 크기를 설정합니다.\n",
    "                                  horizontal_flip=True,     \n",
    "                            # 수평 대칭 이미지를 50% 확률로 만들어 추가합니다.\n",
    "                                  width_shift_range=0.1,    \n",
    "                                   # 전체 크기의 15% 범위에서 좌우로 이동합니다.\n",
    "                                  height_shift_range=0.1,   \n",
    "                                   # 마찬가지로 위, 아래로 이동합니다.\n",
    "                                  #rotation_range=5,        \n",
    "                                   # 정해진 각도만큼 회전시킵니다.\n",
    "                                  #shear_range=0.7,         \n",
    "                               # 좌표 하나를 고정시키고 나머지를 이동시킵니다.\n",
    "                                  #zoom_range=1.2,          \n",
    "                                   # 확대 또는 축소시킵니다.\n",
    "                                  #vertical_flip=True,     \n",
    "                                   # 수직 대칭 이미지를 만듭니다.\n",
    "                                  #fill_mode='nearest'      \n",
    "                                   # 빈 공간을 채우는 방법입니다. \n",
    "                                #nearest 옵션은 가장 비슷한 색으로 채우게 됩니다.\n",
    "                                  )  \n",
    "\n",
    "train_generator = train_datagen.flow_from_directory('data/data2/train',\n",
    "                                                  target_size=(150,150),\n",
    "                                                  batch_size=5,\n",
    "                                                  class_mode='binary')\n",
    "\n",
    "test_datagen = ImageDataGenerator(rescale=1./255)\n",
    "\n",
    "test_generator = test_datagen.flow_from_directory('data/data2/test',\n",
    "                                                  target_size=(150,150),\n",
    "                                                  batch_size=5,\n",
    "                                                  class_mode='binary')"
   ]
  },
  {
   "cell_type": "code",
   "execution_count": 34,
   "id": "8e501c33",
   "metadata": {},
   "outputs": [
    {
     "name": "stdout",
     "output_type": "stream",
     "text": [
      "Model: \"sequential_6\"\n",
      "_________________________________________________________________\n",
      "Layer (type)                 Output Shape              Param #   \n",
      "=================================================================\n",
      "conv2d_7 (Conv2D)            (None, 148, 148, 32)      896       \n",
      "_________________________________________________________________\n",
      "max_pooling2d_6 (MaxPooling2 (None, 74, 74, 32)        0         \n",
      "_________________________________________________________________\n",
      "conv2d_8 (Conv2D)            (None, 72, 72, 32)        9248      \n",
      "_________________________________________________________________\n",
      "max_pooling2d_7 (MaxPooling2 (None, 36, 36, 32)        0         \n",
      "_________________________________________________________________\n",
      "conv2d_9 (Conv2D)            (None, 34, 34, 64)        18496     \n",
      "_________________________________________________________________\n",
      "max_pooling2d_8 (MaxPooling2 (None, 17, 17, 64)        0         \n",
      "_________________________________________________________________\n",
      "flatten_2 (Flatten)          (None, 18496)             0         \n",
      "_________________________________________________________________\n",
      "dense_4 (Dense)              (None, 64)                1183808   \n",
      "_________________________________________________________________\n",
      "dropout_2 (Dropout)          (None, 64)                0         \n",
      "_________________________________________________________________\n",
      "dense_5 (Dense)              (None, 1)                 65        \n",
      "=================================================================\n",
      "Total params: 1,212,513\n",
      "Trainable params: 1,212,513\n",
      "Non-trainable params: 0\n",
      "_________________________________________________________________\n"
     ]
    }
   ],
   "source": [
    "model = Sequential()\n",
    "model.add(layers.Conv2D(32, (3, 3), input_shape=(150, 150, 3),\n",
    "                       activation='relu'))\n",
    "model.add(MaxPooling2D(pool_size=(2,2)))\n",
    "model.add(layers.Conv2D(32, (3, 3), activation='relu'))\n",
    "model.add(MaxPooling2D(pool_size=(2,2)))\n",
    "model.add(layers.Conv2D(64, (3, 3), activation='relu'))\n",
    "model.add(MaxPooling2D(pool_size=(2,2)))\n",
    "\n",
    "model.add(layers.Flatten())\n",
    "model.add(layers.Dense(64, activation='relu'))\n",
    "model.add(layers.Dropout(0.5))\n",
    "model.add(layers.Dense(1, activation='sigmoid'))\n",
    "model.summary()"
   ]
  },
  {
   "cell_type": "code",
   "execution_count": 35,
   "id": "2fbe1439",
   "metadata": {},
   "outputs": [],
   "source": [
    "model.compile(loss='binary_crossentropy', \n",
    "              optimizer=optimizers.Adam(learning_rate=0.0002),\n",
    "              metrics=['accuracy'])\n",
    "early_stopping = EarlyStopping(monitor='val_loss', patience=5)"
   ]
  },
  {
   "cell_type": "code",
   "execution_count": 36,
   "id": "e5c47e2f",
   "metadata": {},
   "outputs": [
    {
     "name": "stdout",
     "output_type": "stream",
     "text": [
      "Epoch 1/100\n",
      "32/32 [==============================] - 5s 150ms/step - loss: 0.6978 - accuracy: 0.5500 - val_loss: 0.6965 - val_accuracy: 0.5000\n",
      "Epoch 2/100\n",
      "32/32 [==============================] - 4s 130ms/step - loss: 0.6915 - accuracy: 0.5063 - val_loss: 0.6872 - val_accuracy: 0.5500\n",
      "Epoch 3/100\n",
      "32/32 [==============================] - 4s 115ms/step - loss: 0.6946 - accuracy: 0.5063 - val_loss: 0.6823 - val_accuracy: 0.5083\n",
      "Epoch 4/100\n",
      "32/32 [==============================] - 3s 109ms/step - loss: 0.6683 - accuracy: 0.6687 - val_loss: 0.6822 - val_accuracy: 0.5167\n",
      "Epoch 5/100\n",
      "32/32 [==============================] - 3s 108ms/step - loss: 0.6824 - accuracy: 0.5500 - val_loss: 0.6525 - val_accuracy: 0.5750\n",
      "Epoch 6/100\n",
      "32/32 [==============================] - 3s 108ms/step - loss: 0.6567 - accuracy: 0.5750 - val_loss: 0.6196 - val_accuracy: 0.6833\n",
      "Epoch 7/100\n",
      "32/32 [==============================] - 3s 108ms/step - loss: 0.6549 - accuracy: 0.6313 - val_loss: 0.5787 - val_accuracy: 0.7833\n",
      "Epoch 8/100\n",
      "32/32 [==============================] - 3s 108ms/step - loss: 0.6135 - accuracy: 0.7125 - val_loss: 0.5490 - val_accuracy: 0.7167\n",
      "Epoch 9/100\n",
      "32/32 [==============================] - 3s 108ms/step - loss: 0.5562 - accuracy: 0.7500 - val_loss: 0.4258 - val_accuracy: 0.8750\n",
      "Epoch 10/100\n",
      "32/32 [==============================] - 3s 107ms/step - loss: 0.5221 - accuracy: 0.8000 - val_loss: 0.4638 - val_accuracy: 0.7250\n",
      "Epoch 11/100\n",
      "32/32 [==============================] - 3s 109ms/step - loss: 0.4992 - accuracy: 0.7437 - val_loss: 0.3495 - val_accuracy: 0.9000\n",
      "Epoch 12/100\n",
      "32/32 [==============================] - 3s 109ms/step - loss: 0.3918 - accuracy: 0.8375 - val_loss: 0.2728 - val_accuracy: 0.9250\n",
      "Epoch 13/100\n",
      "32/32 [==============================] - 3s 109ms/step - loss: 0.3895 - accuracy: 0.8562 - val_loss: 0.3648 - val_accuracy: 0.7833\n",
      "Epoch 14/100\n",
      "32/32 [==============================] - 3s 109ms/step - loss: 0.3682 - accuracy: 0.8438 - val_loss: 0.2560 - val_accuracy: 0.9083\n",
      "Epoch 15/100\n",
      "32/32 [==============================] - 4s 110ms/step - loss: 0.3179 - accuracy: 0.8875 - val_loss: 0.2135 - val_accuracy: 0.9417\n",
      "Epoch 16/100\n",
      "32/32 [==============================] - 4s 109ms/step - loss: 0.3906 - accuracy: 0.8375 - val_loss: 0.2304 - val_accuracy: 0.9333\n",
      "Epoch 17/100\n",
      "32/32 [==============================] - 3s 108ms/step - loss: 0.2885 - accuracy: 0.9187 - val_loss: 0.1787 - val_accuracy: 0.9417\n",
      "Epoch 18/100\n",
      "32/32 [==============================] - 4s 110ms/step - loss: 0.2466 - accuracy: 0.9062 - val_loss: 0.1581 - val_accuracy: 0.9500\n",
      "Epoch 19/100\n",
      "32/32 [==============================] - 3s 108ms/step - loss: 0.2102 - accuracy: 0.9062 - val_loss: 0.1823 - val_accuracy: 0.9250\n",
      "Epoch 20/100\n",
      "32/32 [==============================] - 3s 108ms/step - loss: 0.2613 - accuracy: 0.8875 - val_loss: 0.2007 - val_accuracy: 0.9167\n",
      "Epoch 21/100\n",
      "32/32 [==============================] - 3s 107ms/step - loss: 0.2245 - accuracy: 0.9187 - val_loss: 0.1886 - val_accuracy: 0.9000\n",
      "Epoch 22/100\n",
      "32/32 [==============================] - 3s 108ms/step - loss: 0.2127 - accuracy: 0.9125 - val_loss: 0.1273 - val_accuracy: 0.9667\n",
      "Epoch 23/100\n",
      "32/32 [==============================] - 3s 106ms/step - loss: 0.1824 - accuracy: 0.9438 - val_loss: 0.1445 - val_accuracy: 0.9500\n",
      "Epoch 24/100\n",
      "32/32 [==============================] - 4s 110ms/step - loss: 0.2096 - accuracy: 0.9125 - val_loss: 0.1267 - val_accuracy: 0.9500\n",
      "Epoch 25/100\n",
      "32/32 [==============================] - 4s 110ms/step - loss: 0.1733 - accuracy: 0.9375 - val_loss: 0.1198 - val_accuracy: 0.9583\n",
      "Epoch 26/100\n",
      "32/32 [==============================] - 3s 109ms/step - loss: 0.1755 - accuracy: 0.9312 - val_loss: 0.1312 - val_accuracy: 0.9333\n",
      "Epoch 27/100\n",
      "32/32 [==============================] - 4s 110ms/step - loss: 0.1918 - accuracy: 0.9438 - val_loss: 0.0903 - val_accuracy: 0.9750\n",
      "Epoch 28/100\n",
      "32/32 [==============================] - 3s 109ms/step - loss: 0.1063 - accuracy: 0.9750 - val_loss: 0.1108 - val_accuracy: 0.9500\n",
      "Epoch 29/100\n",
      "32/32 [==============================] - 3s 108ms/step - loss: 0.1617 - accuracy: 0.9375 - val_loss: 0.0842 - val_accuracy: 0.9750\n",
      "Epoch 30/100\n",
      "32/32 [==============================] - 3s 108ms/step - loss: 0.1335 - accuracy: 0.9563 - val_loss: 0.0842 - val_accuracy: 0.9750\n",
      "Epoch 31/100\n",
      "32/32 [==============================] - 3s 109ms/step - loss: 0.1457 - accuracy: 0.9438 - val_loss: 0.0968 - val_accuracy: 0.9750\n",
      "Epoch 32/100\n",
      "32/32 [==============================] - 4s 111ms/step - loss: 0.1173 - accuracy: 0.9625 - val_loss: 0.1100 - val_accuracy: 0.9583\n",
      "Epoch 33/100\n",
      "32/32 [==============================] - 4s 112ms/step - loss: 0.1206 - accuracy: 0.9625 - val_loss: 0.0763 - val_accuracy: 0.9833\n",
      "Epoch 34/100\n",
      "32/32 [==============================] - 4s 129ms/step - loss: 0.1487 - accuracy: 0.9438 - val_loss: 0.1445 - val_accuracy: 0.9417\n",
      "Epoch 35/100\n",
      "32/32 [==============================] - 4s 134ms/step - loss: 0.1141 - accuracy: 0.9625 - val_loss: 0.0961 - val_accuracy: 0.9667\n",
      "Epoch 36/100\n",
      "32/32 [==============================] - 4s 120ms/step - loss: 0.1004 - accuracy: 0.9688 - val_loss: 0.1094 - val_accuracy: 0.9500\n",
      "Epoch 37/100\n",
      "32/32 [==============================] - 4s 112ms/step - loss: 0.0909 - accuracy: 0.9750 - val_loss: 0.0751 - val_accuracy: 0.9833\n",
      "Epoch 38/100\n",
      "32/32 [==============================] - 3s 108ms/step - loss: 0.0951 - accuracy: 0.9625 - val_loss: 0.0856 - val_accuracy: 0.9750\n",
      "Epoch 39/100\n",
      "32/32 [==============================] - 4s 116ms/step - loss: 0.0829 - accuracy: 0.9625 - val_loss: 0.0544 - val_accuracy: 0.9750\n",
      "Epoch 40/100\n",
      "32/32 [==============================] - 3s 90ms/step - loss: 0.0999 - accuracy: 0.9625 - val_loss: 0.0508 - val_accuracy: 0.9833\n",
      "Epoch 41/100\n",
      "32/32 [==============================] - 3s 94ms/step - loss: 0.0856 - accuracy: 0.9750 - val_loss: 0.0605 - val_accuracy: 0.9750\n",
      "Epoch 42/100\n",
      "32/32 [==============================] - 3s 94ms/step - loss: 0.0781 - accuracy: 0.9812 - val_loss: 0.0693 - val_accuracy: 0.9750\n",
      "Epoch 43/100\n",
      "32/32 [==============================] - 3s 93ms/step - loss: 0.0653 - accuracy: 0.9875 - val_loss: 0.0655 - val_accuracy: 0.9833\n",
      "Epoch 44/100\n",
      "32/32 [==============================] - 3s 94ms/step - loss: 0.1167 - accuracy: 0.9563 - val_loss: 0.0613 - val_accuracy: 0.9833\n",
      "Epoch 45/100\n",
      "32/32 [==============================] - 3s 93ms/step - loss: 0.0634 - accuracy: 0.9812 - val_loss: 0.0713 - val_accuracy: 0.9750\n"
     ]
    }
   ],
   "source": [
    "history = model.fit(\n",
    "       train_generator,\n",
    "       epochs=100,\n",
    "       validation_data=test_generator,\n",
    "       callbacks=[early_stopping])"
   ]
  },
  {
   "cell_type": "code",
   "execution_count": 48,
   "id": "793afc9c",
   "metadata": {},
   "outputs": [
    {
     "data": {
      "image/png": "[encoded data removed]",
      "text/plain": [
       "<Figure size 640x480 with 1 Axes>"
      ]
     },
     "metadata": {},
     "output_type": "display_data"
    }
   ],
   "source": [
    "y_vloss = history.history['val_loss']\n",
    "y_loss = history.history['loss']\n",
    "\n",
    "# 그래프로 표현해 봅니다.\n",
    "x_len = np.arange(len(y_loss))\n",
    "plt.plot(x_len, y_vloss, marker='.', c=\"red\", label='Testset_loss')\n",
    "plt.plot(x_len, y_loss, marker='.', c=\"blue\", label='Trainset_loss')\n",
    "\n",
    "# 그래프에 그리드를 주고 레이블을 표시하겠습니다.\n",
    "plt.legend(loc='upper right')\n",
    "plt.grid()\n",
    "plt.xlabel('epoch')\n",
    "plt.ylabel('loss')\n",
    "plt.show()"
   ]
  },
  {
   "cell_type": "code",
   "execution_count": null,
   "id": "b8110dc9",
   "metadata": {},
   "outputs": [],
   "source": []
  }
 ],
 "metadata": {
  "kernelspec": {
   "display_name": "Python 3 (ipykernel)",
   "language": "python",
   "name": "python3"
  },
  "language_info": {
   "codemirror_mode": {
    "name": "ipython",
    "version": 3
   },
   "file_extension": ".py",
   "mimetype": "text/x-python",
   "name": "python",
   "nbconvert_exporter": "python",
   "pygments_lexer": "ipython3",
   "version": "3.8.13"
  }
 },
 "nbformat": 4,
 "nbformat_minor": 5
}
