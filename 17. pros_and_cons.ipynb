{
 "cells": [
  {
   "cell_type": "code",
   "execution_count": 1,
   "id": "92a526ee",
   "metadata": {},
   "outputs": [],
   "source": [
    "from tensorflow.keras.preprocessing import text\n",
    "from tensorflow.keras.preprocessing.sequence import pad_sequences\n",
    "from tensorflow.keras.models import Sequential\n",
    "from tensorflow.keras import layers\n",
    "from tensorflow.keras.utils import to_categorical\n",
    "import numpy as np"
   ]
  },
  {
   "cell_type": "code",
   "execution_count": 2,
   "id": "77a0ee94",
   "metadata": {},
   "outputs": [
    {
     "name": "stdout",
     "output_type": "stream",
     "text": [
      "아이유 콘서트 매진되었어요. 어쩔티비\n",
      "['아이유', '콘서트', '매진되었어요', '어쩔티비']\n"
     ]
    }
   ],
   "source": [
    "sentence = '아이유 콘서트 매진되었어요. 어쩔티비'\n",
    "result = text.text_to_word_sequence(sentence)\n",
    "print(sentence)\n",
    "print(result)"
   ]
  },
  {
   "cell_type": "code",
   "execution_count": 3,
   "id": "0883f922",
   "metadata": {},
   "outputs": [],
   "source": [
    "docs = ['먼저 텍스트의 각 단어를 나누어 토큰화 합니다.',\n",
    "       '텍스트의 단어로 토큰화해야 딥러닝에서 인식됩니다.',\n",
    "       '토큰화한 결과는 딥러닝에서 사용할 수 있습니다.',\n",
    "       ]"
   ]
  },
  {
   "cell_type": "code",
   "execution_count": 4,
   "id": "fb1806b8",
   "metadata": {},
   "outputs": [],
   "source": [
    "# 토큰화 문장에 list\n",
    "token = text.Tokenizer()\n",
    "token.fit_on_texts(docs)"
   ]
  },
  {
   "cell_type": "code",
   "execution_count": 5,
   "id": "85becaeb",
   "metadata": {},
   "outputs": [
    {
     "name": "stdout",
     "output_type": "stream",
     "text": [
      "단어 카운트\n",
      " OrderedDict([('먼저', 1), ('텍스트의', 2), ('각', 1), ('단어를', 1), ('나누어', 1), ('토큰화', 1), ('합니다', 1), ('단어로', 1), ('토큰화해야', 1), ('딥러닝에서', 2), ('인식됩니다', 1), ('토큰화한', 1), ('결과는', 1), ('사용할', 1), ('수', 1), ('있습니다', 1)])\n"
     ]
    }
   ],
   "source": [
    "print('단어 카운트\\n', token.word_counts) \n",
    "# OrderedDict 순서가 있는 딕셔너리"
   ]
  },
  {
   "cell_type": "code",
   "execution_count": 6,
   "id": "fdfac0db",
   "metadata": {},
   "outputs": [
    {
     "name": "stdout",
     "output_type": "stream",
     "text": [
      "각 단어가 몇 개의 문장에 포함되어 있는가\n",
      " defaultdict(<class 'int'>, {'합니다': 1, '토큰화': 1, '단어를': 1, '각': 1, '텍스트의': 2, '먼저': 1, '나누어': 1, '딥러닝에서': 2, '단어로': 1, '인식됩니다': 1, '토큰화해야': 1, '있습니다': 1, '수': 1, '결과는': 1, '사용할': 1, '토큰화한': 1})\n"
     ]
    }
   ],
   "source": [
    "print('각 단어가 몇 개의 문장에 포함되어 있는가\\n', token.word_docs) "
   ]
  },
  {
   "cell_type": "code",
   "execution_count": 7,
   "id": "beb160c3",
   "metadata": {},
   "outputs": [
    {
     "name": "stdout",
     "output_type": "stream",
     "text": [
      "각 단어에 매겨진 인덱스\n",
      " {'텍스트의': 1, '딥러닝에서': 2, '먼저': 3, '각': 4, '단어를': 5, '나누어': 6, '토큰화': 7, '합니다': 8, '단어로': 9, '토큰화해야': 10, '인식됩니다': 11, '토큰화한': 12, '결과는': 13, '사용할': 14, '수': 15, '있습니다': 16}\n"
     ]
    }
   ],
   "source": [
    "print('각 단어에 매겨진 인덱스\\n', token.word_index) \n",
    "#index 자주 출몰하는 단어가 우선순위로 매겨진다.\n",
    "# 단어의 index는 1부터 시작한다."
   ]
  },
  {
   "cell_type": "code",
   "execution_count": 8,
   "id": "cb68c837",
   "metadata": {},
   "outputs": [
    {
     "name": "stdout",
     "output_type": "stream",
     "text": [
      "{'오랫동안': 1, '꿈꾸는': 2, '이는': 3, '그': 4, '꿈을': 5, '닮아간다': 6}\n"
     ]
    }
   ],
   "source": [
    "text1 = \"오랫동안 꿈꾸는 이는 그 꿈을 닮아간다\"\n",
    "token = text.Tokenizer()\n",
    "token.fit_on_texts([text1])\n",
    "print(token.word_index)"
   ]
  },
  {
   "cell_type": "markdown",
   "id": "43557cc5",
   "metadata": {},
   "source": [
    " String으로 된 데이터를 수치데이터로 변형"
   ]
  },
  {
   "cell_type": "code",
   "execution_count": 9,
   "id": "1f379db8",
   "metadata": {},
   "outputs": [
    {
     "name": "stdout",
     "output_type": "stream",
     "text": [
      "[[1, 2, 3, 4, 5, 6]]\n"
     ]
    }
   ],
   "source": [
    "x = token.texts_to_sequences([text1])\n",
    "print(x) "
   ]
  },
  {
   "cell_type": "code",
   "execution_count": 10,
   "id": "3ff774a6",
   "metadata": {},
   "outputs": [
    {
     "name": "stdout",
     "output_type": "stream",
     "text": [
      "[[[0. 1. 0. 0. 0. 0. 0.]\n",
      "  [0. 0. 1. 0. 0. 0. 0.]\n",
      "  [0. 0. 0. 1. 0. 0. 0.]\n",
      "  [0. 0. 0. 0. 1. 0. 0.]\n",
      "  [0. 0. 0. 0. 0. 1. 0.]\n",
      "  [0. 0. 0. 0. 0. 0. 1.]]]\n"
     ]
    }
   ],
   "source": [
    "from tensorflow.keras.utils import to_categorical\n",
    "\n",
    "# 인덱스 수에 하나를 추가해서 원-핫 인코딩 배열 만들기\n",
    "# 단어 인덱스 1부터 시작 맨 앞에는 비워두어야하기 때문\n",
    "word_size = len(token.word_index) + 1\n",
    "x = to_categorical(x, num_classes=word_size)\n",
    "\n",
    "print(x)"
   ]
  },
  {
   "cell_type": "code",
   "execution_count": 11,
   "id": "89a183bc",
   "metadata": {},
   "outputs": [],
   "source": [
    "docs = [\"너무 재밌네요\",\"최고예요\",\"참 잘 만든 영화예요\",\n",
    "        \"추천하고 싶은 영화입니다\",\"한번 더 보고싶네요\",\"글쎄요\",\"별로예요\",\n",
    "        \"생각보다 지루하네요\",\"연기가 어색해요\",\"재미없어요\"]"
   ]
  },
  {
   "cell_type": "code",
   "execution_count": 12,
   "id": "60485c5e",
   "metadata": {},
   "outputs": [],
   "source": [
    "classes = np.array([1,1,1,1,1,0,0,0,0,0])"
   ]
  },
  {
   "cell_type": "code",
   "execution_count": 13,
   "id": "eb24229a",
   "metadata": {},
   "outputs": [
    {
     "name": "stdout",
     "output_type": "stream",
     "text": [
      "{'너무': 1, '재밌네요': 2, '최고예요': 3, '참': 4, '잘': 5, '만든': 6, '영화예요': 7, '추천하고': 8, '싶은': 9, '영화입니다': 10, '한번': 11, '더': 12, '보고싶네요': 13, '글쎄요': 14, '별로예요': 15, '생각보다': 16, '지루하네요': 17, '연기가': 18, '어색해요': 19, '재미없어요': 20}\n"
     ]
    }
   ],
   "source": [
    "token = text.Tokenizer()\n",
    "token.fit_on_texts(docs)\n",
    "print(token.word_index) # 토큰화된 결과를 출력해 확인합니다."
   ]
  },
  {
   "cell_type": "code",
   "execution_count": 14,
   "id": "64441c63",
   "metadata": {},
   "outputs": [
    {
     "name": "stdout",
     "output_type": "stream",
     "text": [
      "\n",
      "리뷰 텍스트, 토큰화 결과:\n",
      " [[1, 2], [3], [4, 5, 6, 7], [8, 9, 10], [11, 12, 13], [14], [15], [16, 17], [18, 19], [20]]\n"
     ]
    }
   ],
   "source": [
    "x = token.texts_to_sequences(docs)\n",
    "print(\"\\n리뷰 텍스트, 토큰화 결과:\\n\", x)"
   ]
  },
  {
   "cell_type": "code",
   "execution_count": 15,
   "id": "1491c32e",
   "metadata": {},
   "outputs": [
    {
     "name": "stdout",
     "output_type": "stream",
     "text": [
      "패딩 결과:\n",
      " [[ 0  0  1  2]\n",
      " [ 0  0  0  3]\n",
      " [ 4  5  6  7]\n",
      " [ 0  8  9 10]\n",
      " [ 0 11 12 13]\n",
      " [ 0  0  0 14]\n",
      " [ 0  0  0 15]\n",
      " [ 0  0 16 17]\n",
      " [ 0  0 18 19]\n",
      " [ 0  0  0 20]]\n"
     ]
    }
   ],
   "source": [
    "padded_x = pad_sequences(x, 4) # 서로 다른 길이의 데이터를 4로 맞추기\n",
    "#4보다 많으면 자르고 적은 것은 채워진다.\n",
    "print(\"패딩 결과:\\n\", padded_x)"
   ]
  },
  {
   "cell_type": "code",
   "execution_count": 16,
   "id": "68e084d0",
   "metadata": {},
   "outputs": [
    {
     "name": "stdout",
     "output_type": "stream",
     "text": [
      "Model: \"sequential\"\n",
      "_________________________________________________________________\n",
      "Layer (type)                 Output Shape              Param #   \n",
      "=================================================================\n",
      "embedding (Embedding)        (None, 4, 8)              168       \n",
      "_________________________________________________________________\n",
      "flatten (Flatten)            (None, 32)                0         \n",
      "_________________________________________________________________\n",
      "dense (Dense)                (None, 1)                 33        \n",
      "=================================================================\n",
      "Total params: 201\n",
      "Trainable params: 201\n",
      "Non-trainable params: 0\n",
      "_________________________________________________________________\n"
     ]
    }
   ],
   "source": [
    "word_size = len(token.word_index) + 1 \n",
    "# 단어가 1부터 시작\n",
    "\n",
    "model = Sequential()\n",
    "model.add(layers.Embedding(word_size, 8, input_length=4)) #8차원으로 만들겠다.\n",
    "model.add(layers.Flatten())\n",
    "model.add(layers.Dense(1, activation='sigmoid'))\n",
    "model.summary()"
   ]
  },
  {
   "cell_type": "code",
   "execution_count": 17,
   "id": "a8515043",
   "metadata": {},
   "outputs": [],
   "source": [
    "model.compile(optimizer='adam', loss='binary_crossentropy',\n",
    "              metrics=['accuracy'])"
   ]
  },
  {
   "cell_type": "code",
   "execution_count": 18,
   "id": "b99152b5",
   "metadata": {},
   "outputs": [
    {
     "name": "stdout",
     "output_type": "stream",
     "text": [
      "Epoch 1/40\n",
      "1/1 [==============================] - 0s 2ms/step - loss: 0.6857 - accuracy: 0.6000\n",
      "Epoch 2/40\n",
      "1/1 [==============================] - 0s 4ms/step - loss: 0.6833 - accuracy: 0.7000\n",
      "Epoch 3/40\n",
      "1/1 [==============================] - 0s 2ms/step - loss: 0.6808 - accuracy: 0.7000\n",
      "Epoch 4/40\n",
      "1/1 [==============================] - 0s 996us/step - loss: 0.6784 - accuracy: 0.8000\n",
      "Epoch 5/40\n",
      "1/1 [==============================] - 0s 2ms/step - loss: 0.6759 - accuracy: 0.8000\n",
      "Epoch 6/40\n",
      "1/1 [==============================] - 0s 3ms/step - loss: 0.6735 - accuracy: 0.8000\n",
      "Epoch 7/40\n",
      "1/1 [==============================] - 0s 2ms/step - loss: 0.6710 - accuracy: 0.8000\n",
      "Epoch 8/40\n",
      "1/1 [==============================] - 0s 998us/step - loss: 0.6685 - accuracy: 0.8000\n",
      "Epoch 9/40\n",
      "1/1 [==============================] - 0s 3ms/step - loss: 0.6661 - accuracy: 0.8000\n",
      "Epoch 10/40\n",
      "1/1 [==============================] - 0s 998us/step - loss: 0.6636 - accuracy: 0.9000\n",
      "Epoch 11/40\n",
      "1/1 [==============================] - 0s 2ms/step - loss: 0.6612 - accuracy: 0.9000\n",
      "Epoch 12/40\n",
      "1/1 [==============================] - 0s 998us/step - loss: 0.6587 - accuracy: 0.9000\n",
      "Epoch 13/40\n",
      "1/1 [==============================] - 0s 2ms/step - loss: 0.6562 - accuracy: 0.9000\n",
      "Epoch 14/40\n",
      "1/1 [==============================] - 0s 2ms/step - loss: 0.6537 - accuracy: 0.9000\n",
      "Epoch 15/40\n",
      "1/1 [==============================] - 0s 995us/step - loss: 0.6513 - accuracy: 0.9000\n",
      "Epoch 16/40\n",
      "1/1 [==============================] - 0s 997us/step - loss: 0.6488 - accuracy: 0.9000\n",
      "Epoch 17/40\n",
      "1/1 [==============================] - 0s 998us/step - loss: 0.6463 - accuracy: 0.9000\n",
      "Epoch 18/40\n",
      "1/1 [==============================] - 0s 997us/step - loss: 0.6438 - accuracy: 0.9000\n",
      "Epoch 19/40\n",
      "1/1 [==============================] - 0s 5ms/step - loss: 0.6413 - accuracy: 0.9000\n",
      "Epoch 20/40\n",
      "1/1 [==============================] - 0s 3ms/step - loss: 0.6387 - accuracy: 0.9000\n",
      "Epoch 21/40\n",
      "1/1 [==============================] - 0s 1ms/step - loss: 0.6362 - accuracy: 0.9000\n",
      "Epoch 22/40\n",
      "1/1 [==============================] - 0s 986us/step - loss: 0.6337 - accuracy: 0.9000\n",
      "Epoch 23/40\n",
      "1/1 [==============================] - 0s 0s/step - loss: 0.6311 - accuracy: 0.9000\n",
      "Epoch 24/40\n",
      "1/1 [==============================] - 0s 2ms/step - loss: 0.6286 - accuracy: 0.9000\n",
      "Epoch 25/40\n",
      "1/1 [==============================] - 0s 3ms/step - loss: 0.6260 - accuracy: 0.9000\n",
      "Epoch 26/40\n",
      "1/1 [==============================] - 0s 1ms/step - loss: 0.6234 - accuracy: 0.9000\n",
      "Epoch 27/40\n",
      "1/1 [==============================] - 0s 997us/step - loss: 0.6209 - accuracy: 0.9000\n",
      "Epoch 28/40\n",
      "1/1 [==============================] - 0s 994us/step - loss: 0.6183 - accuracy: 0.9000\n",
      "Epoch 29/40\n",
      "1/1 [==============================] - 0s 991us/step - loss: 0.6157 - accuracy: 0.9000\n",
      "Epoch 30/40\n",
      "1/1 [==============================] - 0s 2ms/step - loss: 0.6131 - accuracy: 0.9000\n",
      "Epoch 31/40\n",
      "1/1 [==============================] - 0s 998us/step - loss: 0.6105 - accuracy: 0.9000\n",
      "Epoch 32/40\n",
      "1/1 [==============================] - 0s 998us/step - loss: 0.6078 - accuracy: 0.9000\n",
      "Epoch 33/40\n",
      "1/1 [==============================] - 0s 2ms/step - loss: 0.6052 - accuracy: 0.9000\n",
      "Epoch 34/40\n",
      "1/1 [==============================] - 0s 996us/step - loss: 0.6025 - accuracy: 0.9000\n",
      "Epoch 35/40\n",
      "1/1 [==============================] - 0s 997us/step - loss: 0.5999 - accuracy: 0.9000\n",
      "Epoch 36/40\n",
      "1/1 [==============================] - 0s 998us/step - loss: 0.5972 - accuracy: 0.9000\n",
      "Epoch 37/40\n",
      "1/1 [==============================] - 0s 996us/step - loss: 0.5946 - accuracy: 0.9000\n",
      "Epoch 38/40\n",
      "1/1 [==============================] - 0s 997us/step - loss: 0.5919 - accuracy: 0.9000\n",
      "Epoch 39/40\n",
      "1/1 [==============================] - 0s 997us/step - loss: 0.5892 - accuracy: 0.9000\n",
      "Epoch 40/40\n",
      "1/1 [==============================] - 0s 998us/step - loss: 0.5865 - accuracy: 0.9000\n"
     ]
    },
    {
     "data": {
      "text/plain": [
       "<tensorflow.python.keras.callbacks.History at 0x247b2e015e0>"
      ]
     },
     "execution_count": 18,
     "metadata": {},
     "output_type": "execute_result"
    }
   ],
   "source": [
    "model.fit(padded_x, classes, epochs=40)"
   ]
  },
  {
   "cell_type": "code",
   "execution_count": 20,
   "id": "bc751e11",
   "metadata": {},
   "outputs": [
    {
     "name": "stdout",
     "output_type": "stream",
     "text": [
      "1/1 [==============================] - 0s 997us/step - loss: 0.5838 - accuracy: 0.9000\n",
      "\n",
      " Test Accuracy:  0.8999999761581421\n"
     ]
    }
   ],
   "source": [
    "print(\"\\n Test Accuracy: \" , model.evaluate(padded_x, classes)[1])"
   ]
  },
  {
   "cell_type": "code",
   "execution_count": null,
   "id": "c215a54f",
   "metadata": {},
   "outputs": [],
   "source": []
  }
 ],
 "metadata": {
  "kernelspec": {
   "display_name": "Python 3 (ipykernel)",
   "language": "python",
   "name": "python3"
  },
  "language_info": {
   "codemirror_mode": {
    "name": "ipython",
    "version": 3
   },
   "file_extension": ".py",
   "mimetype": "text/x-python",
   "name": "python",
   "nbconvert_exporter": "python",
   "pygments_lexer": "ipython3",
   "version": "3.8.13"
  }
 },
 "nbformat": 4,
 "nbformat_minor": 5
}
