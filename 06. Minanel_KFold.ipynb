{
 "cells": [
  {
   "cell_type": "code",
   "execution_count": 1,
   "id": "25f3598c",
   "metadata": {},
   "outputs": [],
   "source": [
    "from tensorflow.keras.models import Sequential\n",
    "from tensorflow.keras import layers\n",
    "from sklearn.model_selection import KFold\n",
    "import pandas as pd"
   ]
  },
  {
   "cell_type": "code",
   "execution_count": 2,
   "id": "99d92bd2",
   "metadata": {},
   "outputs": [],
   "source": [
    "df = pd.read_csv('data/sonar3.csv', header=None)\n",
    "X = df.iloc[:, 0:60]\n",
    "y = df.iloc[:, 60]\n",
    "k = 5"
   ]
  },
  {
   "cell_type": "code",
   "execution_count": 3,
   "id": "8f7e54d9",
   "metadata": {},
   "outputs": [],
   "source": [
    "kfold = KFold(n_splits=5, shuffle=True) # 섞은 다음에 잘라라\n",
    "\n",
    "acc_score = []"
   ]
  },
  {
   "cell_type": "code",
   "execution_count": 4,
   "id": "8404a0f2",
   "metadata": {},
   "outputs": [],
   "source": [
    "def model_fn():\n",
    "    model = Sequential()\n",
    "    model.add(layers.Dense(24, input_dim = 60, activation='relu'))\n",
    "    model.add(layers.Dense(10, activation='relu'))\n",
    "    model.add(layers.Dense(1, activation='sigmoid'))\n",
    "    return model"
   ]
  },
  {
   "cell_type": "code",
   "execution_count": 5,
   "id": "d004a5d5",
   "metadata": {},
   "outputs": [
    {
     "name": "stdout",
     "output_type": "stream",
     "text": [
      "2/2 [==============================] - 0s 3ms/step - loss: 0.2549 - accuracy: 0.8810\n",
      "2/2 [==============================] - 0s 1ms/step - loss: 1.2009 - accuracy: 0.7143\n",
      "1/2 [==============>...............] - ETA: 0s - loss: 0.4431 - accuracy: 0.9062WARNING:tensorflow:Callbacks method `on_test_batch_begin` is slow compared to the batch time (batch time: 0.0000s vs `on_test_batch_begin` time: 0.0010s). Check your callbacks.\n",
      "2/2 [==============================] - 0s 997us/step - loss: 0.6325 - accuracy: 0.8095\n",
      "1/2 [==============>...............] - ETA: 0s - loss: 1.3592 - accuracy: 0.6562WARNING:tensorflow:Callbacks method `on_test_batch_end` is slow compared to the batch time (batch time: 0.0000s vs `on_test_batch_end` time: 0.0010s). Check your callbacks.\n",
      "2/2 [==============================] - 0s 999us/step - loss: 1.0650 - accuracy: 0.7317\n",
      "WARNING:tensorflow:5 out of the last 9 calls to <function Model.make_test_function.<locals>.test_function at 0x000001EBDED290D0> triggered tf.function retracing. Tracing is expensive and the excessive number of tracings could be due to (1) creating @tf.function repeatedly in a loop, (2) passing tensors with different shapes, (3) passing Python objects instead of tensors. For (1), please define your @tf.function outside of the loop. For (2), @tf.function has experimental_relax_shapes=True option that relaxes argument shapes that can avoid unnecessary retracing. For (3), please refer to https://www.tensorflow.org/tutorials/customization/performance#python_or_tensor_args and https://www.tensorflow.org/api_docs/python/tf/function for  more details.\n",
      "2/2 [==============================] - 0s 997us/step - loss: 0.6544 - accuracy: 0.9024\n"
     ]
    }
   ],
   "source": [
    "for train_index, test_index in kfold.split(X):\n",
    "    X_train, X_test = X.iloc[train_index, :], X.iloc[test_index, :]\n",
    "    y_train, y_test = y.iloc[train_index], y.iloc[test_index]\n",
    "    \n",
    "    model = model_fn()\n",
    "    model.compile(loss='binary_crossentropy', optimizer='adam',\n",
    "                 metrics=['accuracy'])\n",
    "    history = model.fit(X_train, y_train, epochs=200, batch_size = 10, verbose=0)\n",
    "    # verbose가 1일때 학습시키면 나오는게 1 안나오는게 0\n",
    "    \n",
    "    accuracy = model.evaluate(X_test, y_test)[1]\n",
    "    acc_score.append(accuracy)"
   ]
  },
  {
   "cell_type": "code",
   "execution_count": 6,
   "id": "8f8720ca",
   "metadata": {},
   "outputs": [
    {
     "name": "stdout",
     "output_type": "stream",
     "text": [
      "Accuracy: [0.8809523582458496, 0.7142857313156128, 0.8095238208770752, 0.7317073345184326, 0.9024389982223511]\n",
      "Average Accuracy : 0.8077816486358642\n"
     ]
    }
   ],
   "source": [
    "avg_acc_score = sum(acc_score) / 5\n",
    "print('Accuracy:', acc_score)\n",
    "print('Average Accuracy :', avg_acc_score)"
   ]
  },
  {
   "cell_type": "code",
   "execution_count": null,
   "id": "54c4c998",
   "metadata": {},
   "outputs": [],
   "source": []
  }
 ],
 "metadata": {
  "kernelspec": {
   "display_name": "Python 3 (ipykernel)",
   "language": "python",
   "name": "python3"
  },
  "language_info": {
   "codemirror_mode": {
    "name": "ipython",
    "version": 3
   },
   "file_extension": ".py",
   "mimetype": "text/x-python",
   "name": "python",
   "nbconvert_exporter": "python",
   "pygments_lexer": "ipython3",
   "version": "3.8.13"
  }
 },
 "nbformat": 4,
 "nbformat_minor": 5
}
