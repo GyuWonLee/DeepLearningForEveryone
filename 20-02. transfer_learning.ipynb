{
 "cells": [
  {
   "cell_type": "code",
   "execution_count": 2,
   "id": "5c7cf048",
   "metadata": {},
   "outputs": [],
   "source": [
    "from tensorflow.keras.models import Sequential\n",
    "from tensorflow.keras import models, layers\n",
    "from tensorflow.keras.layers import Dense, Activation, Dropout, Flatten, Conv2D, MaxPooling2D\n",
    "from tensorflow.keras.preprocessing.image import ImageDataGenerator\n",
    "from tensorflow.keras.callbacks import EarlyStopping\n",
    "from tensorflow.keras import optimizers\n",
    "from tensorflow.keras.applications import VGG16\n",
    "\n",
    "import numpy as np\n",
    "import matplotlib.pyplot as plt\n",
    "import os"
   ]
  },
  {
   "cell_type": "code",
   "execution_count": 3,
   "id": "89b91220",
   "metadata": {},
   "outputs": [
    {
     "name": "stdout",
     "output_type": "stream",
     "text": [
      "Found 160 images belonging to 2 classes.\n",
      "Found 120 images belonging to 2 classes.\n"
     ]
    }
   ],
   "source": [
    "#학습셋의 변형을 설정하는 부분입니다. \n",
    "train_datagen = ImageDataGenerator(rescale=1./255,          \n",
    "                                   # 주어진 이미지의 크기를 설정합니다.\n",
    "                                  horizontal_flip=True,     \n",
    "                            # 수평 대칭 이미지를 50% 확률로 만들어 추가합니다.\n",
    "                                  width_shift_range=0.1,    \n",
    "                                   # 전체 크기의 15% 범위에서 좌우로 이동합니다.\n",
    "                                  height_shift_range=0.1,   \n",
    "                                   # 마찬가지로 위, 아래로 이동합니다.\n",
    "                                  #rotation_range=5,        \n",
    "                                   # 정해진 각도만큼 회전시킵니다.\n",
    "                                  #shear_range=0.7,         \n",
    "                               # 좌표 하나를 고정시키고 나머지를 이동시킵니다.\n",
    "                                  #zoom_range=1.2,          \n",
    "                                   # 확대 또는 축소시킵니다.\n",
    "                                  #vertical_flip=True,     \n",
    "                                   # 수직 대칭 이미지를 만듭니다.\n",
    "                                  #fill_mode='nearest'      \n",
    "                                   # 빈 공간을 채우는 방법입니다. \n",
    "                                #nearest 옵션은 가장 비슷한 색으로 채우게 됩니다.\n",
    "                                  )  \n",
    "\n",
    "train_generator = train_datagen.flow_from_directory('data/data2/train',\n",
    "                                                  target_size=(150,150),\n",
    "                                                  batch_size=5,\n",
    "                                                  class_mode='binary')\n",
    "\n",
    "test_datagen = ImageDataGenerator(rescale=1./255)\n",
    "\n",
    "test_generator = test_datagen.flow_from_directory('data/data2/test',\n",
    "                                                  target_size=(150,150),\n",
    "                                                  batch_size=5,\n",
    "                                                  class_mode='binary')"
   ]
  },
  {
   "cell_type": "code",
   "execution_count": 6,
   "id": "5f73c68d",
   "metadata": {},
   "outputs": [
    {
     "name": "stdout",
     "output_type": "stream",
     "text": [
      "Model: \"vgg16\"\n",
      "_________________________________________________________________\n",
      "Layer (type)                 Output Shape              Param #   \n",
      "=================================================================\n",
      "input_2 (InputLayer)         [(None, 150, 150, 3)]     0         \n",
      "_________________________________________________________________\n",
      "block1_conv1 (Conv2D)        (None, 150, 150, 64)      1792      \n",
      "_________________________________________________________________\n",
      "block1_conv2 (Conv2D)        (None, 150, 150, 64)      36928     \n",
      "_________________________________________________________________\n",
      "block1_pool (MaxPooling2D)   (None, 75, 75, 64)        0         \n",
      "_________________________________________________________________\n",
      "block2_conv1 (Conv2D)        (None, 75, 75, 128)       73856     \n",
      "_________________________________________________________________\n",
      "block2_conv2 (Conv2D)        (None, 75, 75, 128)       147584    \n",
      "_________________________________________________________________\n",
      "block2_pool (MaxPooling2D)   (None, 37, 37, 128)       0         \n",
      "_________________________________________________________________\n",
      "block3_conv1 (Conv2D)        (None, 37, 37, 256)       295168    \n",
      "_________________________________________________________________\n",
      "block3_conv2 (Conv2D)        (None, 37, 37, 256)       590080    \n",
      "_________________________________________________________________\n",
      "block3_conv3 (Conv2D)        (None, 37, 37, 256)       590080    \n",
      "_________________________________________________________________\n",
      "block3_pool (MaxPooling2D)   (None, 18, 18, 256)       0         \n",
      "_________________________________________________________________\n",
      "block4_conv1 (Conv2D)        (None, 18, 18, 512)       1180160   \n",
      "_________________________________________________________________\n",
      "block4_conv2 (Conv2D)        (None, 18, 18, 512)       2359808   \n",
      "_________________________________________________________________\n",
      "block4_conv3 (Conv2D)        (None, 18, 18, 512)       2359808   \n",
      "_________________________________________________________________\n",
      "block4_pool (MaxPooling2D)   (None, 9, 9, 512)         0         \n",
      "_________________________________________________________________\n",
      "block5_conv1 (Conv2D)        (None, 9, 9, 512)         2359808   \n",
      "_________________________________________________________________\n",
      "block5_conv2 (Conv2D)        (None, 9, 9, 512)         2359808   \n",
      "_________________________________________________________________\n",
      "block5_conv3 (Conv2D)        (None, 9, 9, 512)         2359808   \n",
      "_________________________________________________________________\n",
      "block5_pool (MaxPooling2D)   (None, 4, 4, 512)         0         \n",
      "=================================================================\n",
      "Total params: 14,714,688\n",
      "Trainable params: 0\n",
      "Non-trainable params: 14,714,688\n",
      "_________________________________________________________________\n"
     ]
    }
   ],
   "source": [
    "transfer_model = VGG16(weights='imagenet', include_top=False,\n",
    "                       input_shape=(150, 150, 3))\n",
    "transfer_model.trainable = False\n",
    "transfer_model.summary()"
   ]
  },
  {
   "cell_type": "code",
   "execution_count": 7,
   "id": "25650da8",
   "metadata": {},
   "outputs": [
    {
     "name": "stdout",
     "output_type": "stream",
     "text": [
      "Model: \"sequential\"\n",
      "_________________________________________________________________\n",
      "Layer (type)                 Output Shape              Param #   \n",
      "=================================================================\n",
      "vgg16 (Functional)           (None, 4, 4, 512)         14714688  \n",
      "_________________________________________________________________\n",
      "flatten (Flatten)            (None, 8192)              0         \n",
      "_________________________________________________________________\n",
      "dense (Dense)                (None, 64)                524352    \n",
      "_________________________________________________________________\n",
      "dropout (Dropout)            (None, 64)                0         \n",
      "_________________________________________________________________\n",
      "dense_1 (Dense)              (None, 1)                 65        \n",
      "=================================================================\n",
      "Total params: 15,239,105\n",
      "Trainable params: 524,417\n",
      "Non-trainable params: 14,714,688\n",
      "_________________________________________________________________\n"
     ]
    }
   ],
   "source": [
    "finetune_model = models.Sequential()\n",
    "finetune_model.add(transfer_model)\n",
    "finetune_model.add(layers.Flatten())\n",
    "finetune_model.add(layers.Dense(64, Activation('relu')))\n",
    "finetune_model.add(layers.Dropout(0.5))\n",
    "finetune_model.add(layers.Dense(1, Activation('sigmoid')))\n",
    "finetune_model.summary()"
   ]
  },
  {
   "cell_type": "code",
   "execution_count": 11,
   "id": "ae80e828",
   "metadata": {},
   "outputs": [],
   "source": [
    "finetune_model.compile(loss='binary_crossentropy', \n",
    "                       optimizer=optimizers.Adam(learning_rate=0.0002),\n",
    "                       metrics=['accuracy'])\n",
    "early_stopping = EarlyStopping(monitor='val_loss', patience=5)"
   ]
  },
  {
   "cell_type": "code",
   "execution_count": 12,
   "id": "edc4b75e",
   "metadata": {},
   "outputs": [
    {
     "name": "stdout",
     "output_type": "stream",
     "text": [
      "Epoch 1/20\n",
      "32/32 [==============================] - 16s 503ms/step - loss: 0.7201 - accuracy: 0.5625 - val_loss: 0.6262 - val_accuracy: 0.5583\n",
      "Epoch 2/20\n",
      "32/32 [==============================] - 16s 515ms/step - loss: 0.5858 - accuracy: 0.7125 - val_loss: 0.5310 - val_accuracy: 0.8167\n",
      "Epoch 3/20\n",
      "32/32 [==============================] - 16s 513ms/step - loss: 0.5012 - accuracy: 0.7937 - val_loss: 0.4562 - val_accuracy: 0.8667\n",
      "Epoch 4/20\n",
      "32/32 [==============================] - 16s 511ms/step - loss: 0.4401 - accuracy: 0.8000 - val_loss: 0.4235 - val_accuracy: 0.8500\n",
      "Epoch 5/20\n",
      "32/32 [==============================] - 17s 546ms/step - loss: 0.4285 - accuracy: 0.8250 - val_loss: 0.3764 - val_accuracy: 0.8833\n",
      "Epoch 6/20\n",
      "32/32 [==============================] - 16s 490ms/step - loss: 0.3563 - accuracy: 0.8750 - val_loss: 0.3363 - val_accuracy: 0.8917\n",
      "Epoch 7/20\n",
      "32/32 [==============================] - 16s 514ms/step - loss: 0.3391 - accuracy: 0.8750 - val_loss: 0.3448 - val_accuracy: 0.8417\n",
      "Epoch 8/20\n",
      "32/32 [==============================] - 16s 492ms/step - loss: 0.3292 - accuracy: 0.9062 - val_loss: 0.2947 - val_accuracy: 0.8917\n",
      "Epoch 9/20\n",
      "32/32 [==============================] - 16s 493ms/step - loss: 0.3201 - accuracy: 0.9000 - val_loss: 0.2644 - val_accuracy: 0.9000\n",
      "Epoch 10/20\n",
      "32/32 [==============================] - 16s 507ms/step - loss: 0.2795 - accuracy: 0.9125 - val_loss: 0.2711 - val_accuracy: 0.9083\n",
      "Epoch 11/20\n",
      "32/32 [==============================] - 16s 501ms/step - loss: 0.2350 - accuracy: 0.9438 - val_loss: 0.2246 - val_accuracy: 0.9500\n",
      "Epoch 12/20\n",
      "32/32 [==============================] - 16s 496ms/step - loss: 0.2226 - accuracy: 0.9187 - val_loss: 0.2144 - val_accuracy: 0.9583\n",
      "Epoch 13/20\n",
      "32/32 [==============================] - 16s 492ms/step - loss: 0.2408 - accuracy: 0.9312 - val_loss: 0.2137 - val_accuracy: 0.9583\n",
      "Epoch 14/20\n",
      "32/32 [==============================] - 16s 511ms/step - loss: 0.2055 - accuracy: 0.9563 - val_loss: 0.2007 - val_accuracy: 0.9167\n",
      "Epoch 15/20\n",
      "32/32 [==============================] - 17s 520ms/step - loss: 0.1924 - accuracy: 0.9500 - val_loss: 0.1951 - val_accuracy: 0.9250\n",
      "Epoch 16/20\n",
      "32/32 [==============================] - 16s 495ms/step - loss: 0.1927 - accuracy: 0.9312 - val_loss: 0.1788 - val_accuracy: 0.9250\n",
      "Epoch 17/20\n",
      "32/32 [==============================] - 16s 486ms/step - loss: 0.1731 - accuracy: 0.9438 - val_loss: 0.1897 - val_accuracy: 0.9333\n",
      "Epoch 18/20\n",
      "32/32 [==============================] - 16s 489ms/step - loss: 0.1915 - accuracy: 0.9312 - val_loss: 0.1791 - val_accuracy: 0.9250\n",
      "Epoch 19/20\n",
      "32/32 [==============================] - 16s 487ms/step - loss: 0.1768 - accuracy: 0.9375 - val_loss: 0.1606 - val_accuracy: 0.9417\n",
      "Epoch 20/20\n",
      "32/32 [==============================] - 16s 488ms/step - loss: 0.1645 - accuracy: 0.9563 - val_loss: 0.1611 - val_accuracy: 0.9417\n"
     ]
    }
   ],
   "source": [
    "history = finetune_model.fit(\n",
    "       train_generator,\n",
    "       epochs=20,\n",
    "       validation_data=test_generator,\n",
    "       callbacks=[early_stopping])"
   ]
  },
  {
   "cell_type": "code",
   "execution_count": 14,
   "id": "737c3b0e",
   "metadata": {},
   "outputs": [
    {
     "data": {
      "image/png": "[encoded data removed]",
      "text/plain": [
       "<Figure size 640x480 with 1 Axes>"
      ]
     },
     "metadata": {},
     "output_type": "display_data"
    }
   ],
   "source": [
    "# 검증셋과 학습셋의 오차를 저장합니다.\n",
    "y_vloss = history.history['val_loss']\n",
    "y_loss = history.history['loss']\n",
    "\n",
    "# 그래프로 표현해 봅니다.\n",
    "x_len = np.arange(len(y_loss))\n",
    "plt.plot(x_len, y_vloss, marker='.', c=\"red\", label='Testset_loss')\n",
    "plt.plot(x_len, y_loss, marker='.', c=\"blue\", label='Trainset_loss')\n",
    "\n",
    "# 그래프에 그리드를 주고 레이블을 표시하겠습니다.\n",
    "plt.legend(loc='upper right')\n",
    "plt.grid()\n",
    "plt.xlabel('epoch')\n",
    "plt.ylabel('loss')\n",
    "plt.show()"
   ]
  },
  {
   "cell_type": "code",
   "execution_count": null,
   "id": "38012a81",
   "metadata": {},
   "outputs": [],
   "source": []
  }
 ],
 "metadata": {
  "kernelspec": {
   "display_name": "Python 3 (ipykernel)",
   "language": "python",
   "name": "python3"
  },
  "language_info": {
   "codemirror_mode": {
    "name": "ipython",
    "version": 3
   },
   "file_extension": ".py",
   "mimetype": "text/x-python",
   "name": "python",
   "nbconvert_exporter": "python",
   "pygments_lexer": "ipython3",
   "version": "3.8.13"
  }
 },
 "nbformat": 4,
 "nbformat_minor": 5
}
