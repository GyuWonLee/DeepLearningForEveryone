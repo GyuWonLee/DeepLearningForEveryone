{
 "cells": [
  {
   "cell_type": "code",
   "execution_count": 1,
   "id": "2cd29fa9",
   "metadata": {},
   "outputs": [],
   "source": [
    "from tensorflow.keras import models, layers\n",
    "from tensorflow.keras.utils import to_categorical\n",
    "from tensorflow.keras.preprocessing import sequence\n",
    "from tensorflow.keras.datasets import reuters\n",
    "from tensorflow.keras.callbacks import EarlyStopping\n",
    "import numpy as np\n",
    "import matplotlib.pyplot as plt"
   ]
  },
  {
   "cell_type": "code",
   "execution_count": 2,
   "id": "e9549378",
   "metadata": {},
   "outputs": [
    {
     "name": "stdout",
     "output_type": "stream",
     "text": [
      "46\n",
      "Train data: 8982\n",
      "Test data: 2246\n"
     ]
    },
    {
     "name": "stderr",
     "output_type": "stream",
     "text": [
      "C:\\Users\\BIT\\miniconda3\\envs\\py38-env2\\lib\\site-packages\\tensorflow\\python\\keras\\datasets\\reuters.py:148: VisibleDeprecationWarning: Creating an ndarray from ragged nested sequences (which is a list-or-tuple of lists-or-tuples-or ndarrays with different lengths or shapes) is deprecated. If you meant to do this, you must specify 'dtype=object' when creating the ndarray\n",
      "  x_train, y_train = np.array(xs[:idx]), np.array(labels[:idx])\n",
      "C:\\Users\\BIT\\miniconda3\\envs\\py38-env2\\lib\\site-packages\\tensorflow\\python\\keras\\datasets\\reuters.py:149: VisibleDeprecationWarning: Creating an ndarray from ragged nested sequences (which is a list-or-tuple of lists-or-tuples-or ndarrays with different lengths or shapes) is deprecated. If you meant to do this, you must specify 'dtype=object' when creating the ndarray\n",
      "  x_test, y_test = np.array(xs[idx:]), np.array(labels[idx:])\n"
     ]
    }
   ],
   "source": [
    "(X_train, y_train), (X_test, y_test) = reuters.load_data(num_words=1000,\n",
    "                                                        test_split=0.2)\n",
    "\n",
    "category = np.max(y_train) + 1\n",
    "print(category)\n",
    "print('Train data:', len(X_train))\n",
    "print('Test data:', len(X_test))"
   ]
  },
  {
   "cell_type": "code",
   "execution_count": 3,
   "id": "c768b29c",
   "metadata": {},
   "outputs": [
    {
     "name": "stdout",
     "output_type": "stream",
     "text": [
      "[1, 2, 2, 8, 43, 10, 447, 5, 25, 207, 270, 5, 2, 111, 16, 369, 186, 90, 67, 7, 89, 5, 19, 102, 6, 19, 124, 15, 90, 67, 84, 22, 482, 26, 7, 48, 4, 49, 8, 864, 39, 209, 154, 6, 151, 6, 83, 11, 15, 22, 155, 11, 15, 7, 48, 9, 2, 2, 504, 6, 258, 6, 272, 11, 15, 22, 134, 44, 11, 15, 16, 8, 197, 2, 90, 67, 52, 29, 209, 30, 32, 132, 6, 109, 15, 17, 12]\n"
     ]
    }
   ],
   "source": [
    "print(X_train[0])"
   ]
  },
  {
   "cell_type": "code",
   "execution_count": 4,
   "id": "358d1b41",
   "metadata": {},
   "outputs": [],
   "source": [
    "X_train = sequence.pad_sequences(X_train, maxlen=100)\n",
    "X_test = sequence.pad_sequences(X_test, maxlen=100)\n",
    "\n",
    "y_train = to_categorical(y_train)\n",
    "y_test = to_categorical(y_test)"
   ]
  },
  {
   "cell_type": "code",
   "execution_count": 5,
   "id": "adc0784e",
   "metadata": {},
   "outputs": [
    {
     "name": "stdout",
     "output_type": "stream",
     "text": [
      "Model: \"sequential\"\n",
      "_________________________________________________________________\n",
      "Layer (type)                 Output Shape              Param #   \n",
      "=================================================================\n",
      "embedding (Embedding)        (None, None, 100)         100000    \n",
      "_________________________________________________________________\n",
      "lstm (LSTM)                  (None, 100)               80400     \n",
      "_________________________________________________________________\n",
      "dense (Dense)                (None, 46)                4646      \n",
      "=================================================================\n",
      "Total params: 185,046\n",
      "Trainable params: 185,046\n",
      "Non-trainable params: 0\n",
      "_________________________________________________________________\n"
     ]
    }
   ],
   "source": [
    "model = models.Sequential()\n",
    "model.add(layers.Embedding(1000, 100)) # {(100+100)*100+100}*4\n",
    "model.add(layers.LSTM(100, activation = 'tanh'))\n",
    "model.add(layers.Dense(46, activation = 'softmax'))\n",
    "model.summary()"
   ]
  },
  {
   "cell_type": "code",
   "execution_count": 17,
   "id": "806c8ee8",
   "metadata": {},
   "outputs": [],
   "source": [
    "import tensorflow as tf\n",
    "params = {'model_name': 'reuters',\n",
    "         'input_dim': 1000,\n",
    "         'embed_out': 100,\n",
    "         'lstm_out': 100,\n",
    "         'dense_out': 46}\n",
    "\n",
    "class ReuterClassifier(tf.keras.Model):\n",
    "    def __init__(self, **kargs):\n",
    "        super(ReuterClassifier, self).__init__(name=kargs['model_name'])\n",
    "        self.embd = layers.Embedding(kargs['input_dim'], kargs['embed_out'])\n",
    "        self.lstm = layers.LSTM(kargs['lstm_out'], activation='tanh')\n",
    "        self.dense = layers.Dense(kargs['dense_out'], activation='softmax')\n",
    "        \n",
    "    def call(self, x):\n",
    "        x = self.embd(x)\n",
    "        x = self.lstm(x)\n",
    "        x = self.dense(x)\n",
    "        \n",
    "        return x"
   ]
  },
  {
   "cell_type": "code",
   "execution_count": 18,
   "id": "629b89a7",
   "metadata": {},
   "outputs": [],
   "source": [
    "model = ReuterClassifier(**params)"
   ]
  },
  {
   "cell_type": "code",
   "execution_count": 19,
   "id": "a07b229b",
   "metadata": {},
   "outputs": [],
   "source": [
    "model.compile(loss='categorical_crossentropy', optimizer='adam',\n",
    "             metrics=['accuracy'])"
   ]
  },
  {
   "cell_type": "code",
   "execution_count": 20,
   "id": "56e3916e",
   "metadata": {},
   "outputs": [],
   "source": [
    "early_stopping = EarlyStopping(monitor='val_loss', patience=5)"
   ]
  },
  {
   "cell_type": "code",
   "execution_count": 21,
   "id": "d925ba95",
   "metadata": {},
   "outputs": [
    {
     "name": "stdout",
     "output_type": "stream",
     "text": [
      "Epoch 1/200\n",
      "450/450 [==============================] - 17s 38ms/step - loss: 2.2127 - accuracy: 0.4274 - val_loss: 1.9560 - val_accuracy: 0.4889\n",
      "Epoch 2/200\n",
      "450/450 [==============================] - 16s 37ms/step - loss: 1.8071 - accuracy: 0.5390 - val_loss: 1.7345 - val_accuracy: 0.5663\n",
      "Epoch 3/200\n",
      "450/450 [==============================] - 17s 37ms/step - loss: 1.6560 - accuracy: 0.5787 - val_loss: 1.6376 - val_accuracy: 0.5837\n",
      "Epoch 4/200\n",
      "450/450 [==============================] - 17s 37ms/step - loss: 1.5131 - accuracy: 0.6118 - val_loss: 1.4870 - val_accuracy: 0.6229\n",
      "Epoch 5/200\n",
      "450/450 [==============================] - 17s 37ms/step - loss: 1.3575 - accuracy: 0.6515 - val_loss: 1.4158 - val_accuracy: 0.6402\n",
      "Epoch 6/200\n",
      "450/450 [==============================] - 17s 37ms/step - loss: 1.2298 - accuracy: 0.6875 - val_loss: 1.2920 - val_accuracy: 0.6723\n",
      "Epoch 7/200\n",
      "450/450 [==============================] - 17s 37ms/step - loss: 1.1383 - accuracy: 0.7155 - val_loss: 1.2376 - val_accuracy: 0.6861\n",
      "Epoch 8/200\n",
      "450/450 [==============================] - 17s 37ms/step - loss: 1.0275 - accuracy: 0.7416 - val_loss: 1.1637 - val_accuracy: 0.7110\n",
      "Epoch 9/200\n",
      "450/450 [==============================] - 17s 37ms/step - loss: 0.9487 - accuracy: 0.7591 - val_loss: 1.1957 - val_accuracy: 0.6968\n",
      "Epoch 10/200\n",
      "450/450 [==============================] - 16s 37ms/step - loss: 0.8963 - accuracy: 0.7727 - val_loss: 1.1451 - val_accuracy: 0.7164\n",
      "Epoch 11/200\n",
      "450/450 [==============================] - 17s 37ms/step - loss: 0.8307 - accuracy: 0.7894 - val_loss: 1.1450 - val_accuracy: 0.7253\n",
      "Epoch 12/200\n",
      "450/450 [==============================] - 17s 37ms/step - loss: 0.7789 - accuracy: 0.8061 - val_loss: 1.1330 - val_accuracy: 0.7226\n",
      "Epoch 13/200\n",
      "450/450 [==============================] - 17s 37ms/step - loss: 0.7134 - accuracy: 0.8218 - val_loss: 1.1620 - val_accuracy: 0.7280\n",
      "Epoch 14/200\n",
      "450/450 [==============================] - 17s 38ms/step - loss: 0.6597 - accuracy: 0.8361 - val_loss: 1.1576 - val_accuracy: 0.7262\n",
      "Epoch 15/200\n",
      "450/450 [==============================] - 17s 37ms/step - loss: 0.6208 - accuracy: 0.8422 - val_loss: 1.2217 - val_accuracy: 0.7275\n",
      "Epoch 16/200\n",
      "450/450 [==============================] - 17s 37ms/step - loss: 0.5710 - accuracy: 0.8569 - val_loss: 1.1967 - val_accuracy: 0.7275\n",
      "Epoch 17/200\n",
      "450/450 [==============================] - 17s 37ms/step - loss: 0.5104 - accuracy: 0.8750 - val_loss: 1.2482 - val_accuracy: 0.7231\n"
     ]
    }
   ],
   "source": [
    "history = model.fit(X_train, y_train, batch_size = 20,\n",
    "                   epochs=200, validation_data=(X_test, y_test),\n",
    "                   callbacks=[early_stopping])"
   ]
  },
  {
   "cell_type": "code",
   "execution_count": 22,
   "id": "6c2d647c",
   "metadata": {},
   "outputs": [
    {
     "data": {
      "image/png": "[encoded data removed]",
      "text/plain": [
       "<Figure size 640x480 with 1 Axes>"
      ]
     },
     "metadata": {},
     "output_type": "display_data"
    }
   ],
   "source": [
    "y_vloss = history.history['val_loss']\n",
    "y_loss = history.history['loss']\n",
    "\n",
    "# 그래프로 표현해 보겠습니다.\n",
    "x_len = np.arange(len(y_loss))\n",
    "plt.plot(x_len, y_vloss, marker='.', c=\"red\", label='Testset_loss')\n",
    "plt.plot(x_len, y_loss, marker='.', c=\"blue\", label='Trainset_loss')\n",
    "\n",
    "# 그래프에 그리드를 주고 레이블을 표시하겠습니다. \n",
    "plt.legend(loc='upper right')\n",
    "plt.grid()\n",
    "plt.xlabel('epoch')\n",
    "plt.ylabel('loss')\n",
    "plt.show()"
   ]
  },
  {
   "cell_type": "code",
   "execution_count": null,
   "id": "86bcd4c5",
   "metadata": {},
   "outputs": [],
   "source": []
  },
  {
   "cell_type": "code",
   "execution_count": null,
   "id": "52f32008",
   "metadata": {},
   "outputs": [],
   "source": []
  }
 ],
 "metadata": {
  "kernelspec": {
   "display_name": "Python 3 (ipykernel)",
   "language": "python",
   "name": "python3"
  },
  "language_info": {
   "codemirror_mode": {
    "name": "ipython",
    "version": 3
   },
   "file_extension": ".py",
   "mimetype": "text/x-python",
   "name": "python",
   "nbconvert_exporter": "python",
   "pygments_lexer": "ipython3",
   "version": "3.8.13"
  }
 },
 "nbformat": 4,
 "nbformat_minor": 5
}
